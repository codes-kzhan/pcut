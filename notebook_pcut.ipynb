{
 "cells": [
  {
   "cell_type": "markdown",
   "metadata": {
    "deletable": true,
    "editable": true
   },
   "source": [
    "# The Product Cut\n",
    "Xavier Bresson, Thomas Laurent, Arthur Szlam, James von Brecht\n",
    "\n",
    "Neural Information Processing Systems (NIPS), 2016\n",
    "\n",
    "[NIPS Official Link](https://papers.nips.cc/paper/6226-the-product-cut)\n",
    "\n",
    "Code version: Feb 1, 2017"
   ]
  },
  {
   "cell_type": "code",
   "execution_count": 2,
   "metadata": {
    "collapsed": true,
    "deletable": true,
    "editable": true
   },
   "outputs": [],
   "source": [
    "# Load libraries\n",
    "\n",
    "# Math\n",
    "import numpy as np\n",
    "\n",
    "# Import data\n",
    "import scipy.io"
   ]
  },
  {
   "cell_type": "code",
   "execution_count": 37,
   "metadata": {
    "collapsed": false
   },
   "outputs": [
    {
     "name": "stdout",
     "output_type": "stream",
     "text": [
      "4056741658382360.0\n"
     ]
    }
   ],
   "source": [
    "# Check random generator\n",
    "randnb = np.random.uniform(0,2**53)\n",
    "print(randnb)"
   ]
  },
  {
   "cell_type": "code",
   "execution_count": 38,
   "metadata": {
    "collapsed": false,
    "deletable": true,
    "editable": true
   },
   "outputs": [
    {
     "name": "stdout",
     "output_type": "stream",
     "text": [
      "19934 20\n"
     ]
    }
   ],
   "source": [
    "# Load 20NEWS dataset\n",
    "mat = scipy.io.loadmat('datasets/20NEWS.mat')\n",
    "A = mat['A'] # scipy.sparse.csc.csc_matrix\n",
    "n = W.shape[0]\n",
    "Cgt = mat['C'] - 1; Cgt = Cgt.squeeze()\n",
    "nc = len(np.unique(Cgt))\n",
    "print(n,nc)"
   ]
  },
  {
   "cell_type": "code",
   "execution_count": 40,
   "metadata": {
    "collapsed": true
   },
   "outputs": [],
   "source": [
    "# Global parameters\n",
    "nc = 20\n",
    "speed = 5\n",
    "alpha = 0.95\n",
    "maxiter = 500"
   ]
  },
  {
   "cell_type": "code",
   "execution_count": 39,
   "metadata": {
    "collapsed": false,
    "deletable": true,
    "editable": true
   },
   "outputs": [],
   "source": [
    "# Symmetrize W\n",
    "W = A\n",
    "bigger = W.T > W\n",
    "W = W - W.multiply(bigger) + W.T.multiply(bigger)\n",
    "#print((W-W.transpose()).sum())\n",
    "\n",
    "# Degree vector, matrix\n",
    "D = W.sum(axis=0)\n",
    "#print(D.shape,D[:10])\n",
    "deg = scipy.sparse.spdiags(D,0,n,n)\n",
    "#print(type(deg))\n",
    "\n",
    "# Inverse degree matrix\n",
    "Dinv = 1/D\n",
    "Dinv = Dinv.squeeze()\n",
    "#print(Dinv.shape)\n",
    "idg = scipy.sparse.spdiags(Dinv,0,n,n)\n",
    "\n",
    "# Random Walk Matrix\n",
    "RW = idg*W\n",
    "W = RW\n",
    "#print(W[:100,:5])"
   ]
  },
  {
   "cell_type": "code",
   "execution_count": 55,
   "metadata": {
    "collapsed": false
   },
   "outputs": [],
   "source": [
    "# Coarsening parameters\n",
    "collapse = 0\n",
    "numlevel = 20\n",
    "\n",
    "# cell array for system matrices at each level\n",
    "Ws = RW\n",
    "Rs = [] # restrictions\n",
    "Ps = [] # prolongations\n",
    "I = scipy.sparse.identity(n, dtype=W.dtype)\n",
    "Sys = I - alpha* RW  # the (I - alpha D^(-1)W ) version\n",
    "#print(type(Sys)) # scipy.sparse.csr.csr_matrix\n",
    "\n",
    "# Coarsening\n",
    "global ll; global uu; \n",
    "ll = []; uu = []\n",
    "\n",
    "uu = scipy.sparse.triu(Sys,1,format=\"csr\")  # store the upper and lower triangular portions \n",
    "ll = Sys - uu                               # of the system matrix at each level.\n",
    "#print(uu[:5,:5])\n",
    "#print(ll[:5,:5])"
   ]
  },
  {
   "cell_type": "code",
   "execution_count": null,
   "metadata": {
    "collapsed": false
   },
   "outputs": [],
   "source": []
  },
  {
   "cell_type": "code",
   "execution_count": null,
   "metadata": {
    "collapsed": true
   },
   "outputs": [],
   "source": []
  },
  {
   "cell_type": "code",
   "execution_count": null,
   "metadata": {
    "collapsed": true,
    "deletable": true,
    "editable": true
   },
   "outputs": [],
   "source": []
  }
 ],
 "metadata": {
  "kernelspec": {
   "display_name": "Python 3",
   "language": "python",
   "name": "python3"
  },
  "language_info": {
   "codemirror_mode": {
    "name": "ipython",
    "version": 3
   },
   "file_extension": ".py",
   "mimetype": "text/x-python",
   "name": "python",
   "nbconvert_exporter": "python",
   "pygments_lexer": "ipython3",
   "version": "3.4.5"
  }
 },
 "nbformat": 4,
 "nbformat_minor": 0
}
